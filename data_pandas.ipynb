{
 "cells": [
  {
   "cell_type": "code",
   "execution_count": 57,
   "metadata": {},
   "outputs": [],
   "source": [
    "import pandas as pd\n",
    "df = pd.read_csv(\"C:/Users/82105/Desktop/data.csv\")\n",
    "data = df[['Club','Age','Overall','Potential']]"
   ]
  },
  {
   "cell_type": "code",
   "execution_count": 93,
   "metadata": {
    "scrolled": true
   },
   "outputs": [],
   "source": [
    "data1 = data.groupby('Club')[['Age','Overall','Potential']].mean()\n",
    "data1['Real_Potential'] = data1['Potential'] - data1['Overall']"
   ]
  },
  {
   "cell_type": "code",
   "execution_count": 97,
   "metadata": {
    "scrolled": true
   },
   "outputs": [
    {
     "name": "stdout",
     "output_type": "stream",
     "text": [
      "                                Age    Overall  Potential  Real_Potential\n",
      "Club                                                                     \n",
      "Juventus                  27.160000  82.280000  85.520000        3.240000\n",
      "Napoli                    25.920000  80.000000  83.440000        3.440000\n",
      "Inter                     27.458333  79.750000  81.750000        2.000000\n",
      "Real Madrid               24.030303  78.242424  84.636364        6.393939\n",
      "Milan                     25.000000  78.074074  82.555556        4.481481\n",
      "FC Barcelona              23.848485  78.030303  85.303030        7.272727\n",
      "Paris Saint-Germain       24.566667  77.433333  83.566667        6.133333\n",
      "Roma                      25.653846  77.423077  82.192308        4.769231\n",
      "Manchester United         24.757576  77.242424  82.666667        5.424242\n",
      "SL Benfica                24.500000  77.000000  81.500000        4.500000\n",
      "FC Bayern München         24.310345  77.000000  83.655172        6.655172\n",
      "Chelsea                   25.212121  76.787879  82.636364        5.848485\n",
      "Manchester City           23.909091  76.727273  83.909091        7.181818\n",
      "Tottenham Hotspur         24.606061  76.696970  82.060606        5.363636\n",
      "FC Porto                  24.964286  76.678571  81.178571        4.500000\n",
      "Sporting CP               26.133333  76.133333  79.400000        3.266667\n",
      "Liverpool                 24.000000  76.000000  82.393939        6.393939\n",
      "Bayer 04 Leverkusen       24.346154  75.807692  81.000000        5.192308\n",
      "Lazio                     25.312500  75.437500  79.437500        4.000000\n",
      "Borussia Dortmund         23.090909  75.333333  82.393939        7.060606\n",
      "Sevilla FC                25.266667  75.200000  79.466667        4.266667\n",
      "Real Betis                25.370370  75.185185  79.703704        4.518519\n",
      "Arsenal                   24.606061  75.181818  81.393939        6.212121\n",
      "Atlético Madrid           23.757576  75.060606  82.454545        7.393939\n",
      "SC Braga                  25.035714  74.821429  78.571429        3.750000\n",
      "Valencia CF               23.060606  74.696970  81.454545        6.757576\n",
      "Villarreal CF             26.593750  74.343750  78.031250        3.687500\n",
      "FC Schalke 04             25.000000  74.310345  79.655172        5.344828\n",
      "Everton                   24.212121  74.121212  79.969697        5.848485\n",
      "Leicester City            25.562500  73.843750  78.250000        4.406250\n",
      "Olympique de Marseille    25.620690  73.827586  78.448276        4.620690\n",
      "Athletic Club de Bilbao   24.774194  73.806452  79.354839        5.548387\n",
      "Ajax                      22.300000  73.633333  80.200000        6.566667\n",
      "Deportivo Alavés          24.703704  73.592593  77.814815        4.222222\n",
      "Olympique Lyonnais        22.793103  73.482759  81.758621        8.275862\n",
      "Atlético Mineiro          28.800000  73.450000  73.450000        0.000000\n",
      "Boca Juniors              25.814815  73.407407  78.148148        4.740741\n",
      "Cagliari                  28.416667  73.375000  75.750000        2.375000\n",
      "Grêmio                    30.000000  73.350000  73.350000        0.000000\n",
      "Torino                    25.346154  73.307692  78.076923        4.769231\n",
      "Internacional             29.600000  73.250000  73.250000        0.000000\n",
      "Eintracht Frankfurt       25.000000  73.242424  77.878788        4.636364\n",
      "SD Eibar                  26.310345  73.206897  77.000000        3.793103\n",
      "Fenerbahçe SK             27.100000  73.200000  76.733333        3.533333\n",
      "Borussia Mönchengladbach  24.233333  73.200000  79.566667        6.366667\n",
      "Spartak Moscow            26.037037  73.185185  77.666667        4.481481\n",
      "RB Leipzig                22.178571  73.107143  80.178571        7.071429\n",
      "West Ham United           25.437500  73.093750  78.062500        4.968750\n",
      "TSG 1899 Hoffenheim       23.696970  73.030303  79.181818        6.151515\n",
      "Getafe CF                 25.464286  73.000000  77.035714        4.035714\n",
      "Bologna                   25.464286  72.964286  78.178571        5.214286\n",
      "AS Monaco                 23.060606  72.939394  80.939394        8.000000\n",
      "Fiorentina                23.416667  72.833333  79.833333        7.000000\n",
      "Shakhtar Donetsk          25.214286  72.821429  77.785714        4.964286\n",
      "Sampdoria                 24.777778  72.703704  77.703704        5.000000\n",
      "VfL Wolfsburg             24.375000  72.625000  78.437500        5.812500\n",
      "Real Sociedad             23.354839  72.612903  79.419355        6.806452\n",
      "Atalanta                  24.541667  72.583333  78.458333        5.875000\n",
      "Beşiktaş JK               26.464286  72.571429  77.035714        4.464286\n",
      "Olympiacos CFP            24.642857  72.500000  77.107143        4.607143\n"
     ]
    }
   ],
   "source": [
    "data2 = data1[data1['Overall']>data1['Overall'].mean()]\n",
    "print(data2.sort_values(by='Overall',ascending=False).head(n=60))"
   ]
  },
  {
   "cell_type": "code",
   "execution_count": 98,
   "metadata": {},
   "outputs": [
    {
     "name": "stdout",
     "output_type": "stream",
     "text": [
      "                                Age    Overall  Potential  Real_Potential\n",
      "Club                                                                     \n",
      "Juventus                  27.160000  82.280000  85.520000        3.240000\n",
      "FC Barcelona              23.848485  78.030303  85.303030        7.272727\n",
      "Real Madrid               24.030303  78.242424  84.636364        6.393939\n",
      "Manchester City           23.909091  76.727273  83.909091        7.181818\n",
      "FC Bayern München         24.310345  77.000000  83.655172        6.655172\n",
      "Paris Saint-Germain       24.566667  77.433333  83.566667        6.133333\n",
      "Napoli                    25.920000  80.000000  83.440000        3.440000\n",
      "Manchester United         24.757576  77.242424  82.666667        5.424242\n",
      "Chelsea                   25.212121  76.787879  82.636364        5.848485\n",
      "Milan                     25.000000  78.074074  82.555556        4.481481\n",
      "Atlético Madrid           23.757576  75.060606  82.454545        7.393939\n",
      "Liverpool                 24.000000  76.000000  82.393939        6.393939\n",
      "Borussia Dortmund         23.090909  75.333333  82.393939        7.060606\n",
      "Roma                      25.653846  77.423077  82.192308        4.769231\n",
      "Tottenham Hotspur         24.606061  76.696970  82.060606        5.363636\n",
      "Olympique Lyonnais        22.793103  73.482759  81.758621        8.275862\n",
      "Inter                     27.458333  79.750000  81.750000        2.000000\n",
      "SL Benfica                24.500000  77.000000  81.500000        4.500000\n",
      "Valencia CF               23.060606  74.696970  81.454545        6.757576\n",
      "Arsenal                   24.606061  75.181818  81.393939        6.212121\n",
      "FC Porto                  24.964286  76.678571  81.178571        4.500000\n",
      "Bayer 04 Leverkusen       24.346154  75.807692  81.000000        5.192308\n",
      "AS Monaco                 23.060606  72.939394  80.939394        8.000000\n",
      "Ajax                      22.300000  73.633333  80.200000        6.566667\n",
      "RB Leipzig                22.178571  73.107143  80.178571        7.071429\n",
      "Everton                   24.212121  74.121212  79.969697        5.848485\n",
      "Fiorentina                23.416667  72.833333  79.833333        7.000000\n",
      "Real Betis                25.370370  75.185185  79.703704        4.518519\n",
      "FC Schalke 04             25.000000  74.310345  79.655172        5.344828\n",
      "Borussia Mönchengladbach  24.233333  73.200000  79.566667        6.366667\n",
      "Sevilla FC                25.266667  75.200000  79.466667        4.266667\n",
      "OGC Nice                  22.821429  72.500000  79.464286        6.964286\n",
      "Lazio                     25.312500  75.437500  79.437500        4.000000\n",
      "PSV                       22.366667  71.766667  79.433333        7.666667\n",
      "Real Sociedad             23.354839  72.612903  79.419355        6.806452\n",
      "Sporting CP               26.133333  76.133333  79.400000        3.266667\n",
      "Athletic Club de Bilbao   24.774194  73.806452  79.354839        5.548387\n",
      "TSG 1899 Hoffenheim       23.696970  73.030303  79.181818        6.151515\n",
      "LOSC Lille                22.000000  69.640000  78.960000        9.320000\n",
      "Club Brugge KV            22.857143  71.678571  78.857143        7.178571\n",
      "RC Celta                  23.666667  72.454545  78.666667        6.212121\n",
      "SC Braga                  25.035714  74.821429  78.571429        3.750000\n",
      "Hertha BSC                23.843750  71.281250  78.562500        7.281250\n",
      "Udinese                   23.566667  71.800000  78.466667        6.666667\n",
      "Atalanta                  24.541667  72.583333  78.458333        5.875000\n",
      "Olympique de Marseille    25.620690  73.827586  78.448276        4.620690\n",
      "VfL Wolfsburg             24.375000  72.625000  78.437500        5.812500\n",
      "Leicester City            25.562500  73.843750  78.250000        4.406250\n",
      "Bologna                   25.464286  72.964286  78.178571        5.214286\n",
      "FC Girondins de Bordeaux  23.483871  71.483871  78.161290        6.677419\n",
      "Boca Juniors              25.814815  73.407407  78.148148        4.740741\n",
      "Torino                    25.346154  73.307692  78.076923        4.769231\n",
      "West Ham United           25.437500  73.093750  78.062500        4.968750\n",
      "Villarreal CF             26.593750  74.343750  78.031250        3.687500\n",
      "VfB Stuttgart             24.518519  72.111111  78.000000        5.888889\n",
      "Sassuolo                  24.740741  72.296296  77.962963        5.666667\n",
      "KRC Genk                  22.800000  71.240000  77.960000        6.720000\n",
      "Eintracht Frankfurt       25.000000  73.242424  77.878788        4.636364\n",
      "SV Werder Bremen          25.000000  71.875000  77.843750        5.968750\n",
      "Deportivo Alavés          24.703704  73.592593  77.814815        4.222222\n"
     ]
    }
   ],
   "source": [
    "print(data2.sort_values(by='Potential',ascending=False).head(n=60))"
   ]
  },
  {
   "cell_type": "code",
   "execution_count": 99,
   "metadata": {},
   "outputs": [
    {
     "name": "stdout",
     "output_type": "stream",
     "text": [
      "                                Age    Overall  Potential  Real_Potential\n",
      "Club                                                                     \n",
      "LOSC Lille                22.000000  69.640000  78.960000        9.320000\n",
      "Wolverhampton Wanderers   22.848485  68.818182  77.575758        8.757576\n",
      "Hamburger SV              22.366667  68.466667  77.200000        8.733333\n",
      "Club Atlético Banfield    23.518519  66.629630  74.962963        8.333333\n",
      "Olympique Lyonnais        22.793103  73.482759  81.758621        8.275862\n",
      "FC Red Bull Salzburg      23.370370  69.370370  77.592593        8.222222\n",
      "AS Monaco                 23.060606  72.939394  80.939394        8.000000\n",
      "PFC CSKA Moscow           22.678571  68.785714  76.678571        7.892857\n",
      "Leeds United              23.200000  67.533333  75.333333        7.800000\n",
      "BSC Young Boys            24.083333  66.708333  74.416667        7.708333\n",
      "PSV                       22.366667  71.766667  79.433333        7.666667\n",
      "FC Basel 1893             24.148148  68.777778  76.296296        7.518519\n",
      "Atlético Madrid           23.757576  75.060606  82.454545        7.393939\n",
      "Atlético Nacional         24.535714  66.392857  73.785714        7.392857\n",
      "Hertha BSC                23.843750  71.281250  78.562500        7.281250\n",
      "FC Barcelona              23.848485  78.030303  85.303030        7.272727\n",
      "Fulham                    23.281250  69.562500  76.812500        7.250000\n",
      "Manchester City           23.909091  76.727273  83.909091        7.181818\n",
      "Club Brugge KV            22.857143  71.678571  78.857143        7.178571\n",
      "Preston North End         23.482759  66.206897  73.310345        7.103448\n",
      "Swansea City              24.100000  68.433333  75.533333        7.100000\n",
      "RB Leipzig                22.178571  73.107143  80.178571        7.071429\n",
      "Borussia Dortmund         23.090909  75.333333  82.393939        7.060606\n",
      "Fiorentina                23.416667  72.833333  79.833333        7.000000\n",
      "Huddersfield Town         23.437500  68.875000  75.843750        6.968750\n",
      "OGC Nice                  22.821429  72.500000  79.464286        6.964286\n",
      "Rangers FC                25.035714  69.392857  76.214286        6.821429\n",
      "Real Sociedad             23.354839  72.612903  79.419355        6.806452\n",
      "U.N.A.M.                  24.000000  66.620690  73.413793        6.793103\n",
      "Valencia CF               23.060606  74.696970  81.454545        6.757576\n",
      "Universidad Católica      23.964286  66.214286  72.964286        6.750000\n",
      "Feyenoord                 22.892857  70.607143  77.357143        6.750000\n",
      "San Lorenzo de Almagro    25.250000  68.964286  75.714286        6.750000\n",
      "KRC Genk                  22.800000  71.240000  77.960000        6.720000\n",
      "FC Girondins de Bordeaux  23.483871  71.483871  78.161290        6.677419\n",
      "Udinese                   23.566667  71.800000  78.466667        6.666667\n",
      "FC Bayern München         24.310345  77.000000  83.655172        6.655172\n",
      "New York Red Bulls        23.655172  66.724138  73.310345        6.586207\n",
      "Deportivo Cali            25.178571  67.964286  74.535714        6.571429\n",
      "Colo-Colo                 25.714286  68.214286  74.785714        6.571429\n",
      "Ajax                      22.300000  73.633333  80.200000        6.566667\n",
      "Panathinaikos FC          23.071429  67.178571  73.714286        6.535714\n",
      "Pachuca                   24.827586  66.965517  73.482759        6.517241\n",
      "AZ Alkmaar                23.066667  70.000000  76.500000        6.500000\n",
      "Rosenborg BK              24.576923  66.538462  73.000000        6.461538\n",
      "1. FSV Mainz 05           23.687500  70.843750  77.281250        6.437500\n",
      "Newcastle United          24.545455  70.878788  77.303030        6.424242\n",
      "Real Madrid               24.030303  78.242424  84.636364        6.393939\n",
      "Liverpool                 24.000000  76.000000  82.393939        6.393939\n",
      "Borussia Mönchengladbach  24.233333  73.200000  79.566667        6.366667\n",
      "FC Midtjylland            24.037037  66.333333  72.666667        6.333333\n",
      "Toulouse Football Club    23.645161  70.129032  76.419355        6.290323\n",
      "Palermo                   24.566667  67.966667  74.233333        6.266667\n",
      "Dynamo Kyiv               23.642857  71.357143  77.607143        6.250000\n",
      "Hull City                 24.333333  66.200000  72.433333        6.233333\n",
      "SC Heerenveen             22.814815  67.111111  73.333333        6.222222\n",
      "RC Celta                  23.666667  72.454545  78.666667        6.212121\n",
      "Arsenal                   24.606061  75.181818  81.393939        6.212121\n",
      "AJ Auxerre                25.185185  66.296296  72.481481        6.185185\n",
      "Bristol City              24.300000  66.733333  72.900000        6.166667\n"
     ]
    }
   ],
   "source": [
    "print(data2.sort_values(by='Real_Potential',ascending=False).head(n=60))"
   ]
  },
  {
   "cell_type": "code",
   "execution_count": 92,
   "metadata": {},
   "outputs": [
    {
     "data": {
      "text/plain": [
       "Text(0, 0.5, 'Team')"
      ]
     },
     "execution_count": 92,
     "metadata": {},
     "output_type": "execute_result"
    },
    {
     "data": {
      "image/png": "[encoded data removed]",
      "text/plain": [
       "<Figure size 432x288 with 1 Axes>"
      ]
     },
     "metadata": {
      "needs_background": "light"
     },
     "output_type": "display_data"
    }
   ],
   "source": [
    "import matplotlib.pyplot as plt\n",
    "fig = plt.figure()\n",
    "axes1 = fig.add_subplot(1,1,1)\n",
    "axes1.hist(data2['Overall'],bins=10)\n",
    "axes1.set_xlabel('Overall_avg')\n",
    "axes1.set_ylabel('Team')"
   ]
  },
  {
   "cell_type": "code",
   "execution_count": 104,
   "metadata": {},
   "outputs": [
    {
     "data": {
      "text/plain": [
       "Text(0, 0.5, 'Real_Potental')"
      ]
     },
     "execution_count": 104,
     "metadata": {},
     "output_type": "execute_result"
    },
    {
     "data": {
      "image/png": "[encoded data removed]",
      "text/plain": [
       "<Figure size 432x288 with 1 Axes>"
      ]
     },
     "metadata": {
      "needs_background": "light"
     },
     "output_type": "display_data"
    }
   ],
   "source": [
    "fig = plt.figure()\n",
    "axes1 = fig.add_subplot(1,1,1)\n",
    "axes1.scatter(data2['Overall'],data2['Real_Potential'])\n",
    "axes1.set_xlabel('Overall_avg')\n",
    "axes1.set_ylabel('Real_Potental')"
   ]
  },
  {
   "cell_type": "code",
   "execution_count": null,
   "metadata": {},
   "outputs": [],
   "source": []
  }
 ],
 "metadata": {
  "kernelspec": {
   "display_name": "Python 3",
   "language": "python",
   "name": "python3"
  },
  "language_info": {
   "codemirror_mode": {
    "name": "ipython",
    "version": 3
   },
   "file_extension": ".py",
   "mimetype": "text/x-python",
   "name": "python",
   "nbconvert_exporter": "python",
   "pygments_lexer": "ipython3",
   "version": "3.8.5"
  }
 },
 "nbformat": 4,
 "nbformat_minor": 4
}
