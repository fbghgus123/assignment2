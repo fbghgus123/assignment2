{
 "cells": [
  {
   "cell_type": "code",
   "execution_count": 57,
   "metadata": {},
   "outputs": [],
   "source": [
    "import pandas as pd\n",
    "df = pd.read_csv(\"C:/Users/82105/Desktop/data.csv\")\n",
    "data = df[['Club','Age','Overall','Potential']]"
   ]
  },
  {
   "cell_type": "code",
   "execution_count": 69,
   "metadata": {
    "scrolled": true
   },
   "outputs": [],
   "source": [
    "data1 = data.groupby('Club')[['Age','Overall','Potential']].mean()"
   ]
  },
  {
   "cell_type": "code",
   "execution_count": 76,
   "metadata": {
    "scrolled": true
   },
   "outputs": [
    {
     "name": "stdout",
     "output_type": "stream",
     "text": [
      "                                Age    Overall  Potential\n",
      "Club                                                     \n",
      "Juventus                  27.160000  82.280000  85.520000\n",
      "Napoli                    25.920000  80.000000  83.440000\n",
      "Inter                     27.458333  79.750000  81.750000\n",
      "Real Madrid               24.030303  78.242424  84.636364\n",
      "Milan                     25.000000  78.074074  82.555556\n",
      "FC Barcelona              23.848485  78.030303  85.303030\n",
      "Paris Saint-Germain       24.566667  77.433333  83.566667\n",
      "Roma                      25.653846  77.423077  82.192308\n",
      "Manchester United         24.757576  77.242424  82.666667\n",
      "SL Benfica                24.500000  77.000000  81.500000\n",
      "FC Bayern München         24.310345  77.000000  83.655172\n",
      "Chelsea                   25.212121  76.787879  82.636364\n",
      "Manchester City           23.909091  76.727273  83.909091\n",
      "Tottenham Hotspur         24.606061  76.696970  82.060606\n",
      "FC Porto                  24.964286  76.678571  81.178571\n",
      "Sporting CP               26.133333  76.133333  79.400000\n",
      "Liverpool                 24.000000  76.000000  82.393939\n",
      "Bayer 04 Leverkusen       24.346154  75.807692  81.000000\n",
      "Lazio                     25.312500  75.437500  79.437500\n",
      "Borussia Dortmund         23.090909  75.333333  82.393939\n",
      "Sevilla FC                25.266667  75.200000  79.466667\n",
      "Real Betis                25.370370  75.185185  79.703704\n",
      "Arsenal                   24.606061  75.181818  81.393939\n",
      "Atlético Madrid           23.757576  75.060606  82.454545\n",
      "SC Braga                  25.035714  74.821429  78.571429\n",
      "Valencia CF               23.060606  74.696970  81.454545\n",
      "Villarreal CF             26.593750  74.343750  78.031250\n",
      "FC Schalke 04             25.000000  74.310345  79.655172\n",
      "Everton                   24.212121  74.121212  79.969697\n",
      "Leicester City            25.562500  73.843750  78.250000\n",
      "Olympique de Marseille    25.620690  73.827586  78.448276\n",
      "Athletic Club de Bilbao   24.774194  73.806452  79.354839\n",
      "Ajax                      22.300000  73.633333  80.200000\n",
      "Deportivo Alavés          24.703704  73.592593  77.814815\n",
      "Olympique Lyonnais        22.793103  73.482759  81.758621\n",
      "Atlético Mineiro          28.800000  73.450000  73.450000\n",
      "Boca Juniors              25.814815  73.407407  78.148148\n",
      "Cagliari                  28.416667  73.375000  75.750000\n",
      "Grêmio                    30.000000  73.350000  73.350000\n",
      "Torino                    25.346154  73.307692  78.076923\n",
      "Internacional             29.600000  73.250000  73.250000\n",
      "Eintracht Frankfurt       25.000000  73.242424  77.878788\n",
      "SD Eibar                  26.310345  73.206897  77.000000\n",
      "Fenerbahçe SK             27.100000  73.200000  76.733333\n",
      "Borussia Mönchengladbach  24.233333  73.200000  79.566667\n",
      "Spartak Moscow            26.037037  73.185185  77.666667\n",
      "RB Leipzig                22.178571  73.107143  80.178571\n",
      "West Ham United           25.437500  73.093750  78.062500\n",
      "TSG 1899 Hoffenheim       23.696970  73.030303  79.181818\n",
      "Getafe CF                 25.464286  73.000000  77.035714\n",
      "Bologna                   25.464286  72.964286  78.178571\n",
      "AS Monaco                 23.060606  72.939394  80.939394\n",
      "Fiorentina                23.416667  72.833333  79.833333\n",
      "Shakhtar Donetsk          25.214286  72.821429  77.785714\n",
      "Sampdoria                 24.777778  72.703704  77.703704\n",
      "VfL Wolfsburg             24.375000  72.625000  78.437500\n",
      "Real Sociedad             23.354839  72.612903  79.419355\n",
      "Atalanta                  24.541667  72.583333  78.458333\n",
      "Beşiktaş JK               26.464286  72.571429  77.035714\n",
      "Olympiacos CFP            24.642857  72.500000  77.107143\n"
     ]
    }
   ],
   "source": [
    "data2 = data1[data1['Overall']>data1['Overall'].mean()]\n",
    "print(data2.sort_values(by='Overall',ascending=False).head(n=60))"
   ]
  },
  {
   "cell_type": "code",
   "execution_count": 78,
   "metadata": {},
   "outputs": [
    {
     "data": {
      "text/plain": [
       "(array([91., 63., 55., 34., 29., 11., 11.,  3.,  2.,  1.]),\n",
       " array([66.14814815, 67.76133333, 69.37451852, 70.9877037 , 72.60088889,\n",
       "        74.21407407, 75.82725926, 77.44044444, 79.05362963, 80.66681481,\n",
       "        82.28      ]),\n",
       " <BarContainer object of 10 artists>)"
      ]
     },
     "execution_count": 78,
     "metadata": {},
     "output_type": "execute_result"
    },
    {
     "data": {
      "image/png": "[encoded data removed]",
      "text/plain": [
       "<Figure size 432x288 with 1 Axes>"
      ]
     },
     "metadata": {
      "needs_background": "light"
     },
     "output_type": "display_data"
    }
   ],
   "source": [
    "import matplotlib.pyplot as plt\n",
    "fig = plt.figure()\n",
    "axes1 = fig.add_subplot(1,1,1)\n",
    "axes1.hist(data2['Overall'],bins=10)\n",
    "axes1.set_xlabel('Overall_avg')\n",
    "axes1.set_ylabel('Team')"
   ]
  },
  {
   "cell_type": "code",
   "execution_count": null,
   "metadata": {},
   "outputs": [],
   "source": []
  }
 ],
 "metadata": {
  "kernelspec": {
   "display_name": "Python 3",
   "language": "python",
   "name": "python3"
  },
  "language_info": {
   "codemirror_mode": {
    "name": "ipython",
    "version": 3
   },
   "file_extension": ".py",
   "mimetype": "text/x-python",
   "name": "python",
   "nbconvert_exporter": "python",
   "pygments_lexer": "ipython3",
   "version": "3.8.5"
  }
 },
 "nbformat": 4,
 "nbformat_minor": 4
}
